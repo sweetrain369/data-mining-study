{
 "cells": [
  {
   "cell_type": "code",
   "execution_count": 192,
   "id": "speaking-beijing",
   "metadata": {},
   "outputs": [],
   "source": [
    "# 변수 선언\n",
    "db=[\n",
    "    ['John',35,35,3,'대출 거절'],\n",
    "    ['Rachel',22,50,2,'대출 승인'],\n",
    "    ['Hannah',63,200,1,'대출 거절'],\n",
    "    ['Tom',59, 170, 1, '대출 거절'],\n",
    "    ['Nellie', 25, 40, 4, '대출 승인']\n",
    "]\n",
    "# '?' 자리에 들어갈 'David'의 대출 승인 여부를 구해야 함\n",
    "db_David=['David', 37, 50, 2, '?']"
   ]
  },
  {
   "cell_type": "code",
   "execution_count": 193,
   "id": "personal-protection",
   "metadata": {},
   "outputs": [],
   "source": [
    "# 선택할 후보 데이터의 개수\n",
    "k=3"
   ]
  },
  {
   "cell_type": "code",
   "execution_count": 194,
   "id": "legal-ceiling",
   "metadata": {
    "scrolled": true
   },
   "outputs": [
    {
     "data": {
      "text/plain": [
       "[['John', 15.165750888103101, '대출 거절'],\n",
       " ['Rachel', 15.0, '대출 승인'],\n",
       " ['Hannah', 152.23994219652081, '대출 거절'],\n",
       " ['Tom', 122.00409829181969, '대출 거절'],\n",
       " ['Nellie', 15.748015748023622, '대출 승인']]"
      ]
     },
     "execution_count": 194,
     "metadata": {},
     "output_type": "execute_result"
    }
   ],
   "source": [
    "# David 벡터와 db에 각 벡터에 대한 유클리드 거리 구하는 과정\n",
    "import math\n",
    "distance_list=[]\n",
    "for db_index in db: \n",
    "    # index_1 - 나이, index_2 - 수입(백만원), index_3 - 신용카드 개수\n",
    "    index_1=pow((db_index[1]-db_David[1]),2)\n",
    "    index_2=pow((db_index[2]-db_David[2]),2)\n",
    "    index_3=pow((db_index[3]-db_David[3]),2)\n",
    "    # 각 db의 벡터와 David에 \n",
    "    distance_list.append([db_index[0],math.sqrt(index_1+index_2+index_3), db_index[4]])\n",
    "distance_list"
   ]
  },
  {
   "cell_type": "code",
   "execution_count": 195,
   "id": "independent-father",
   "metadata": {},
   "outputs": [
    {
     "data": {
      "text/plain": [
       "[1, 0, 4]"
      ]
     },
     "execution_count": 195,
     "metadata": {},
     "output_type": "execute_result"
    }
   ],
   "source": [
    "# 유클리드 거리를 구한 것에 sorted 함수로 상위 k개의 인덱스를 뽑아냄\n",
    "top_indexs=sorted(range(len(distance_list)), key=lambda i: distance_list[i][1], reverse=False)[:k]\n",
    "top_indexs"
   ]
  },
  {
   "cell_type": "code",
   "execution_count": 199,
   "id": "hourly-stranger",
   "metadata": {},
   "outputs": [],
   "source": [
    "# 다수결의 원칙을 위한 각 클러스터의 대출 승인, 대출 여부 개수 수집하기\n",
    "loan_approval=0\n",
    "loan_rejection=0\n",
    "for top_index in top_indexs:\n",
    "    # 클러스터가 '대출 승인'이라면 loan_approval+=1\n",
    "    if distance_list[top_index][2]=='대출 승인':\n",
    "        loan_approval+=1\n",
    "    # 클러스터가 '대출 거절'이라면 loan_rejection+=1\n",
    "    else:\n",
    "        loan_rejection+=1"
   ]
  },
  {
   "cell_type": "code",
   "execution_count": 204,
   "id": "bulgarian-shakespeare",
   "metadata": {},
   "outputs": [
    {
     "name": "stdout",
     "output_type": "stream",
     "text": [
      "대출 승인 :  2\n",
      "대출 거절 :  1\n"
     ]
    }
   ],
   "source": [
    "print('대출 승인 : ',loan_approval)\n",
    "print('대출 거절 : ',loan_rejection)"
   ]
  },
  {
   "cell_type": "code",
   "execution_count": 205,
   "id": "significant-mauritius",
   "metadata": {},
   "outputs": [],
   "source": [
    "# 만약 '다수결의 원칙'에 의해, k개의 클러스터 중 대출 승인이 많다면\n",
    "if loan_approval>loan_rejection:\n",
    "    # db_David[4]는 '대출 승인으로' 변경\n",
    "    db_David[4]='대출 승인'\n",
    "# 대출 거절이 많다면\n",
    "else:\n",
    "    # db_David[4]는 '대출 거절로' 변경\n",
    "    db_David[4]='대출 거절'  "
   ]
  },
  {
   "cell_type": "code",
   "execution_count": 206,
   "id": "spiritual-deposit",
   "metadata": {},
   "outputs": [
    {
     "data": {
      "text/plain": [
       "['David', 37, 50, 2, '대출 승인']"
      ]
     },
     "execution_count": 206,
     "metadata": {},
     "output_type": "execute_result"
    }
   ],
   "source": [
    "# 'David'는 대출을 받을 수 있습니다!\n",
    "db_David"
   ]
  },
  {
   "cell_type": "code",
   "execution_count": null,
   "id": "technological-benchmark",
   "metadata": {},
   "outputs": [],
   "source": []
  },
  {
   "cell_type": "code",
   "execution_count": null,
   "id": "spoken-class",
   "metadata": {},
   "outputs": [],
   "source": []
  }
 ],
 "metadata": {
  "kernelspec": {
   "display_name": "Python 3",
   "language": "python",
   "name": "python3"
  },
  "language_info": {
   "codemirror_mode": {
    "name": "ipython",
    "version": 3
   },
   "file_extension": ".py",
   "mimetype": "text/x-python",
   "name": "python",
   "nbconvert_exporter": "python",
   "pygments_lexer": "ipython3",
   "version": "3.9.1"
  }
 },
 "nbformat": 4,
 "nbformat_minor": 5
}
