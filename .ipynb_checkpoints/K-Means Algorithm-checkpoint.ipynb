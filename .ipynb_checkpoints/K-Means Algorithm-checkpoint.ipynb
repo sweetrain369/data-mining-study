{
 "cells": [
  {
   "cell_type": "code",
   "execution_count": 1,
   "id": "treated-popularity",
   "metadata": {},
   "outputs": [],
   "source": [
    "p_list=[[1,1], [2,1], [1,2], [5,5], [6,5], [5,6],[7,7]]"
   ]
  },
  {
   "cell_type": "code",
   "execution_count": 2,
   "id": "professional-charles",
   "metadata": {},
   "outputs": [],
   "source": [
    "import random\n",
    "import math"
   ]
  },
  {
   "cell_type": "markdown",
   "id": "funky-eleven",
   "metadata": {},
   "source": [
    "# 시작조건 : k개를 임의로 선택한 후, centroid_list 랜덤 초기화"
   ]
  },
  {
   "cell_type": "code",
   "execution_count": 3,
   "id": "reported-generation",
   "metadata": {},
   "outputs": [],
   "source": [
    "def setCentroid():\n",
    "    # K 임의로 선택\n",
    "    k=random.randrange(2,3)\n",
    "    centroid_list=[]\n",
    "    x=[]\n",
    "    y=[]\n",
    "    for i in p_list:\n",
    "        x.append(i[0])\n",
    "        y.append(i[1])\n",
    "    for _ in range(k):\n",
    "        centroid_list.append([random.randint(min(x),max(x)), random.randint(min(y), max(y))])\n",
    "    return centroid_list"
   ]
  },
  {
   "cell_type": "code",
   "execution_count": 4,
   "id": "widespread-vacation",
   "metadata": {},
   "outputs": [
    {
     "name": "stdout",
     "output_type": "stream",
     "text": [
      "[[3, 5], [2, 7]]\n",
      "[[1, 1], [2, 1], [1, 2], [5, 5], [6, 5], [5, 6], [7, 7]]\n"
     ]
    }
   ],
   "source": [
    "centroid_list=setCentroid()\n",
    "print(centroid_list)\n",
    "print(p_list)"
   ]
  },
  {
   "cell_type": "markdown",
   "id": "stock-alignment",
   "metadata": {},
   "source": [
    "# 각 centroid와 point의 유클리드 거리 계산"
   ]
  },
  {
   "cell_type": "code",
   "execution_count": 5,
   "id": "commercial-george",
   "metadata": {},
   "outputs": [],
   "source": [
    "def distCalculCenterAndPoint(p_list, centroid_list):\n",
    "    dist_list=[]\n",
    "    for centroid in centroid_list:\n",
    "        min_dist=10000\n",
    "        result=[]\n",
    "        # ----------------------- 유클리드 거리 계산 --------------------------- # \n",
    "        for p in p_list:\n",
    "            result.append(math.sqrt(math.pow(p[0]-centroid[0],2)+math.pow(p[1]-centroid[1],2)))\n",
    "        dist_list.append(result)            \n",
    "    return dist_list"
   ]
  },
  {
   "cell_type": "markdown",
   "id": "accessory-drain",
   "metadata": {},
   "source": [
    "# 각 중점(c_n)에 따른 point 비교를 위한 List 생성"
   ]
  },
  {
   "cell_type": "code",
   "execution_count": 41,
   "id": "copyrighted-oliver",
   "metadata": {},
   "outputs": [],
   "source": [
    "def createdistCompareList(dist_list):\n",
    "    cur_points=[]\n",
    "    for j in range(len(dist_list[0])):\n",
    "        cur_point=[]\n",
    "        for i in range((len(dist_list))):\n",
    "            cur_point.append(dist_list[i][j])\n",
    "        cur_points.append(cur_point)\n",
    "    return cur_points"
   ]
  },
  {
   "cell_type": "code",
   "execution_count": 7,
   "id": "unsigned-pressing",
   "metadata": {
    "collapsed": true
   },
   "outputs": [
    {
     "data": {
      "text/plain": [
       "[[4.47213595499958,\n",
       "  4.123105625617661,\n",
       "  3.605551275463989,\n",
       "  2.0,\n",
       "  3.0,\n",
       "  2.23606797749979,\n",
       "  4.47213595499958],\n",
       " [6.082762530298219,\n",
       "  6.0,\n",
       "  5.0990195135927845,\n",
       "  3.605551275463989,\n",
       "  4.47213595499958,\n",
       "  3.1622776601683795,\n",
       "  5.0]]"
      ]
     },
     "execution_count": 7,
     "metadata": {},
     "output_type": "execute_result"
    }
   ],
   "source": [
    "distCalculCenterAndPoint(p_list, centroid_list)"
   ]
  },
  {
   "cell_type": "markdown",
   "id": "strong-assembly",
   "metadata": {},
   "source": [
    "# 가장 작은 거리의 centroid에 대한 index 구하기"
   ]
  },
  {
   "cell_type": "code",
   "execution_count": 8,
   "id": "comfortable-flower",
   "metadata": {},
   "outputs": [],
   "source": [
    "def getMinDistanceIndex(cur_point):\n",
    "    centroid_index_list=[]\n",
    "    for cur in cur_point:\n",
    "        centroid_index_list.append(cur.index(min(cur)))\n",
    "    return centroid_index_list"
   ]
  },
  {
   "cell_type": "markdown",
   "id": "italic-adoption",
   "metadata": {},
   "source": [
    "# dic을 이용한 Centroid, Point 맵핑"
   ]
  },
  {
   "cell_type": "code",
   "execution_count": 9,
   "id": "conventional-location",
   "metadata": {
    "scrolled": true
   },
   "outputs": [],
   "source": [
    "def dicMapPointCentroidIndex(p_list, centroid_index_list):\n",
    "    dic={}\n",
    "    for p, centroid_index in zip(p_list, centroid_index_list):\n",
    "        if centroid_index in dic:\n",
    "            dic[centroid_index].append(p)\n",
    "        else:\n",
    "            dic[centroid_index]=list()\n",
    "            dic[centroid_index].append(p)\n",
    "    return dic"
   ]
  },
  {
   "cell_type": "markdown",
   "id": "unnecessary-shopper",
   "metadata": {},
   "source": [
    "# dic의 Value(Point)를 List로 변환"
   ]
  },
  {
   "cell_type": "code",
   "execution_count": 43,
   "id": "executive-injury",
   "metadata": {},
   "outputs": [],
   "source": [
    "def dicValueConvertList(dic):\n",
    "    values=[]\n",
    "    for value in dic.values():\n",
    "        values.append(value)\n",
    "    return values"
   ]
  },
  {
   "cell_type": "markdown",
   "id": "german-lafayette",
   "metadata": {},
   "source": [
    "# 평균을 이용하여 새로운 중점 계산"
   ]
  },
  {
   "cell_type": "code",
   "execution_count": 12,
   "id": "imported-ecology",
   "metadata": {},
   "outputs": [],
   "source": [
    "def createNewCentroid(values):\n",
    "    centroid_list=[]\n",
    "    for value in values:\n",
    "        sum_x=0\n",
    "        sum_y=0\n",
    "        average_x=0\n",
    "        average_y=0\n",
    "        for v in value:\n",
    "            sum_x+=v[0]\n",
    "            average_x=sum_x/len(value)\n",
    "            sum_y+=v[1]\n",
    "            average_y=sum_y/len(value)\n",
    "       # print('average_x = %.2f / average_y = %.2f' % (average_x, average_y))\n",
    "        centroid_list.append([average_x,average_y])\n",
    "    return centroid_list"
   ]
  },
  {
   "cell_type": "markdown",
   "id": "alpha-seventh",
   "metadata": {},
   "source": [
    "# 종료조건 : 수렴 or (n)번 반복 이후에 종료"
   ]
  },
  {
   "cell_type": "code",
   "execution_count": 105,
   "id": "engaged-driver",
   "metadata": {},
   "outputs": [
    {
     "name": "stdout",
     "output_type": "stream",
     "text": [
      "centroid  0  :  [[6, 2], [5, 6]]\n",
      "centroid  1  :  [[1.3333333333333333, 1.3333333333333333], [5.75, 5.75]]\n"
     ]
    }
   ],
   "source": [
    "centroid_list=setCentroid()\n",
    "for count in range(10):\n",
    "    print('centroid ', count,  ' : ', centroid_list)\n",
    "    bef_centroid_list=centroid_list\n",
    "    dist_list=distCalculCenterAndPoint(p_list, centroid_list)\n",
    "    cur_point=createdistCompareList(dist_list)\n",
    "    centroid_index_list=getMinDistanceIndex(cur_point)\n",
    "    dic=dicMapPointCentroidIndex(p_list, centroid_index_list)\n",
    "    values=dicValueConvertList(dic)\n",
    "    centroid_list=createNewCentroid(values)\n",
    "    if centroid_list==bef_centroid_list:\n",
    "        break;"
   ]
  },
  {
   "cell_type": "code",
   "execution_count": null,
   "id": "congressional-arkansas",
   "metadata": {},
   "outputs": [],
   "source": []
  },
  {
   "cell_type": "code",
   "execution_count": null,
   "id": "loved-weight",
   "metadata": {},
   "outputs": [],
   "source": []
  },
  {
   "cell_type": "code",
   "execution_count": null,
   "id": "advised-castle",
   "metadata": {},
   "outputs": [],
   "source": []
  }
 ],
 "metadata": {
  "kernelspec": {
   "display_name": "Python 3",
   "language": "python",
   "name": "python3"
  },
  "language_info": {
   "codemirror_mode": {
    "name": "ipython",
    "version": 3
   },
   "file_extension": ".py",
   "mimetype": "text/x-python",
   "name": "python",
   "nbconvert_exporter": "python",
   "pygments_lexer": "ipython3",
   "version": "3.9.4"
  }
 },
 "nbformat": 4,
 "nbformat_minor": 5
}
