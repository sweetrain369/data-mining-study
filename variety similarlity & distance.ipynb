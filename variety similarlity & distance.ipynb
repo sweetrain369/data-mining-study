{
 "cells": [
  {
   "cell_type": "code",
   "execution_count": 127,
   "id": "allied-snowboard",
   "metadata": {},
   "outputs": [],
   "source": [
    "db=[['빵', '우유'], \n",
    "    ['빵','기저귀','맥주','달걀'],\n",
    "    ['우유', '기저귀', '맥주', '콜라'],\n",
    "    ['빵', '우유','기저귀', '맥주'], \n",
    "    ['빵', '우유','기저귀', '콜라']]"
   ]
  },
  {
   "cell_type": "markdown",
   "id": "convenient-cannon",
   "metadata": {},
   "source": [
    "### Support"
   ]
  },
  {
   "cell_type": "code",
   "execution_count": 586,
   "id": "affected-diesel",
   "metadata": {},
   "outputs": [],
   "source": [
    "# Support (서포트)\n",
    "feature=['우유', '맥주']\n",
    "record_length=0;\n",
    "feature_length=0;\n",
    "cnt=0;\n",
    "a=0;\n",
    "for record in db:\n",
    "    # db[0][i]에 값이 있으면 레코드 길이에 누적한다\n",
    "    if record!=None:\n",
    "        record_length+=1\n",
    "        for index, item in enumerate(record):\n",
    "            # 한 행의 첫번째 값에 들어가면 cnt 값을 새로 초기화해 줌\n",
    "            if index==0:\n",
    "                cnt=0\n",
    "            for i in feature:\n",
    "                # 만약, 특징 값의 길이(len(feature))와 db에서 같은 단어의 개수(cnt)가 맞으면\n",
    "                if i==item:\n",
    "                    cnt+=1\n",
    "                    if cnt==len(feature):\n",
    "                        # feature_length를 누적해줌\n",
    "                        feature_length+=1\n",
    "support=(feature_length/record_length)"
   ]
  },
  {
   "cell_type": "markdown",
   "id": "descending-scholar",
   "metadata": {},
   "source": [
    "### Suport ( filter 함수 사용)"
   ]
  },
  {
   "cell_type": "code",
   "execution_count": 587,
   "id": "patent-paris",
   "metadata": {},
   "outputs": [],
   "source": [
    "# Support (서포트)\n",
    "feature=['우유', '맥주']\n",
    "record_length=0;\n",
    "feature_length=0;\n",
    "cnt=0;\n",
    "a=0;\n",
    "la=[]\n",
    "for record in db:\n",
    "    # db[0][i]에 값이 있으면 레코드 길이에 누적한다\n",
    "    correct_check=[]\n",
    "    for i in feature:\n",
    "        la=(list(filter(lambda item: item == i,record)))\n",
    "        if la:\n",
    "            correct_check.append(la) # filter\n",
    "        if len(correct_check)==len(feature):\n",
    "            feature_length+=1\n",
    "support=feature_length/(len(db))"
   ]
  },
  {
   "cell_type": "markdown",
   "id": "favorite-document",
   "metadata": {},
   "source": [
    "### Support, Confidence (같은 클래스로 구현)"
   ]
  },
  {
   "cell_type": "code",
   "execution_count": 436,
   "id": "productive-married",
   "metadata": {},
   "outputs": [],
   "source": [
    "class Simularity:\n",
    "    def __init__(self, db):\n",
    "        self.db = db\n",
    "        \n",
    "    def Support(self, dest_list):\n",
    "        record_length=len(self.db)\n",
    "        feature_length=0\n",
    "        for record in self.db:\n",
    "            correct_check=[]\n",
    "            for i in feature:\n",
    "                # filter 함수로 각 리스트에서 찾고자 하는 item이 있다면 la 리스트에 반환한다\n",
    "                la=(list(filter(lambda item: item == i,record)))\n",
    "                # la는 한꺼번에 리스트에 넣지 않고 단어 하나하나당 넣기 때문에 append를 해줘야함 \n",
    "                # filter는 조건에 맞지 않아도 리스트로 빈 값을 반환함\n",
    "                if la:\n",
    "                    correct_check.append(la) # filter\n",
    "                if len(correct_check)==len(feature):\n",
    "                    feature_length+=1\n",
    "        support_score=feature_length/record_length\n",
    "        return support_score\n",
    "    \n",
    "    def Confidence(self, x, y):\n",
    "        x_length=0\n",
    "        y_length=0\n",
    "        for record in self.db:\n",
    "            x_cnt=0\n",
    "            y_cnt=0\n",
    "            # record에 찾는 x_item이 있다면 x_cnt를 누적\n",
    "            for x_item in x:\n",
    "                if x_item in record:\n",
    "                    x_cnt+=1\n",
    "            # x_cnt와 x 특징 벡터 길이가 같다면 x_length(분모) 누적 \n",
    "            if x_cnt==len(x):\n",
    "                x_length+=1\n",
    "           # x 특징 벡터와 같은 과정을 반복해줌\n",
    "            for y_item in y:\n",
    "                if y_item in record:\n",
    "                    y_cnt+=1\n",
    "            if y_cnt==len(y):\n",
    "                y_length+=1\n",
    "        confidence_score=y_length/x_length\n",
    "        return confidence_score"
   ]
  },
  {
   "cell_type": "code",
   "execution_count": 615,
   "id": "certified-collection",
   "metadata": {},
   "outputs": [
    {
     "name": "stdout",
     "output_type": "stream",
     "text": [
      "support score =  0.4\n",
      "confidence_score =  0.6666666666666666\n"
     ]
    }
   ],
   "source": [
    "mySim = Simularity(db)\n",
    "support_score=mySim.Support(['우유', '맥주'])\n",
    "confidence_score=mySim.Confidence(['우유','기저귀'], ['우유','맥주','기저귀'])\n",
    "print('support score = ', support_score)\n",
    "print('confidence_score = ', confidence_score)"
   ]
  },
  {
   "cell_type": "code",
   "execution_count": 693,
   "id": "amber-individual",
   "metadata": {},
   "outputs": [],
   "source": [
    "import re\n",
    "import numpy as np\n",
    "from nltk.tokenize import word_tokenize "
   ]
  },
  {
   "cell_type": "markdown",
   "id": "broken-phoenix",
   "metadata": {},
   "source": [
    "### Perceptron (퍼셉트론)"
   ]
  },
  {
   "cell_type": "code",
   "execution_count": 573,
   "id": "detailed-optimization",
   "metadata": {},
   "outputs": [],
   "source": [
    "def Perceptron():\n",
    "    x1, x2, x3=1,0,1\n",
    "    w1, w2, w3=0.6, 0.2, 0.2 # 입력의 가중치, w1+w2+w3=1\n",
    "    y=x1*w1+w2*x2+x3*w3\n",
    "    theta = 0.5 # 임계값\n",
    "    if y>0.5:\n",
    "        y=1\n",
    "    else:\n",
    "        y=0\n",
    "    print(y)"
   ]
  },
  {
   "cell_type": "code",
   "execution_count": 574,
   "id": "medical-williams",
   "metadata": {
    "scrolled": true
   },
   "outputs": [
    {
     "name": "stdout",
     "output_type": "stream",
     "text": [
      "1\n"
     ]
    }
   ],
   "source": [
    "Perceptron()"
   ]
  },
  {
   "cell_type": "markdown",
   "id": "sought-leave",
   "metadata": {},
   "source": [
    "### Eucliedan_Distance (유클리디안 거리)"
   ]
  },
  {
   "cell_type": "code",
   "execution_count": 569,
   "id": "stainless-recording",
   "metadata": {},
   "outputs": [],
   "source": [
    "import math\n",
    "x=['23세','2년','2']\n",
    "y=['40세','10년','1']\n",
    "def Euclidean_Distance(x, y):\n",
    "    sum_result=0\n",
    "    new_List1=[]\n",
    "    new_List2=[]\n",
    "    # db에 있는 데이터들을 각각 숫자만 추출하여 각 new_List1, 2에 새로 담아줌\n",
    "    for x_item in x:\n",
    "        numbers1 = re.findall(\"\\d+\", x_item)\n",
    "        new_List1.append(numbers1)\n",
    "    for y_item in y:\n",
    "        numbers2 = re.findall(\"\\d+\", y_item)\n",
    "        new_List2.append(numbers2)\n",
    "    # 유클리디안 거리 계산\n",
    "    for index, item in enumerate(x):\n",
    "        sum_result+=math.pow(float(new_List1[index][0])-float(new_List2[index][0]),2)\n",
    "        eu_dist=math.sqrt(sum_result)\n",
    "    return eu_dist"
   ]
  },
  {
   "cell_type": "code",
   "execution_count": 570,
   "id": "mature-method",
   "metadata": {},
   "outputs": [
    {
     "name": "stdout",
     "output_type": "stream",
     "text": [
      "Euclidean Distance = 18.81488772222678\n"
     ]
    }
   ],
   "source": [
    "eu_dist=Euclidean_Distance(x, y)\n",
    "print('Euclidean Distance =', eu_dist)"
   ]
  },
  {
   "cell_type": "markdown",
   "id": "future-spirit",
   "metadata": {},
   "source": [
    "### Manhaton Distance (맨하튼 거리)"
   ]
  },
  {
   "cell_type": "code",
   "execution_count": 571,
   "id": "chronic-thompson",
   "metadata": {},
   "outputs": [],
   "source": [
    "x=['23세','2년','1']\n",
    "y=['40세','10년','2']\n",
    "def Manhaton_Distance(x, y):\n",
    "    man_dist=0\n",
    "    new_List1=[]\n",
    "    new_List2=[]\n",
    "    # db에 있는 데이터들을 각각 숫자만 추출하여 각 new_List1, 2에 새로 담아줌\n",
    "    for x_item in x:\n",
    "        numbers1 = re.findall(\"\\d+\", x_item)\n",
    "        new_List1.append(numbers1)\n",
    "    for y_item in y:\n",
    "        numbers2 = re.findall(\"\\d+\", y_item)\n",
    "        new_List2.append(numbers2)\n",
    "    # str -> float 형태로 바꿔주며 맨하튼 거리 계산\n",
    "    for index, item in enumerate(x):\n",
    "        man_dist+=abs(float(new_List1[index][0])-float(new_List2[index][0]))\n",
    "    return man_dist"
   ]
  },
  {
   "cell_type": "code",
   "execution_count": 572,
   "id": "tested-brown",
   "metadata": {},
   "outputs": [
    {
     "name": "stdout",
     "output_type": "stream",
     "text": [
      "Manhaton Distance =  26.0\n"
     ]
    }
   ],
   "source": [
    "manhaton_distance=Manhaton_Distance(x,y)\n",
    "print('Manhaton Distance = ', manhaton_distance)"
   ]
  },
  {
   "cell_type": "markdown",
   "id": "periodic-tribute",
   "metadata": {},
   "source": [
    "### Cosine Distance(Similarity) (코사인 유사도)"
   ]
  },
  {
   "cell_type": "code",
   "execution_count": 696,
   "id": "closing-housing",
   "metadata": {},
   "outputs": [],
   "source": [
    "from numpy import linalg as la\n",
    "x=[0,2,1,2,0]\n",
    "y=[0,1,1,1,2]\n",
    "def Cosine_Similarity(x, y):\n",
    "    cosine_similarity=np.dot(x,y)/(la.norm(x)*la.norm(y))\n",
    "    return cosine_similarity"
   ]
  },
  {
   "cell_type": "code",
   "execution_count": 697,
   "id": "spatial-swimming",
   "metadata": {},
   "outputs": [
    {
     "name": "stdout",
     "output_type": "stream",
     "text": [
      "Cosine Similarity =  0.629940788348712\n",
      "Cosine Distance =  0.37005921165128797\n"
     ]
    }
   ],
   "source": [
    "cosine_similarity=Cosine_Similarity(x, y)\n",
    "cosine_distance=1-cosine_similarity\n",
    "print('Cosine Similarity = ', cosine_similarity)\n",
    "print('Cosine Distance = ', cosine_distance)"
   ]
  },
  {
   "cell_type": "markdown",
   "id": "acknowledged-saudi",
   "metadata": {},
   "source": [
    "### Jaccard Distance(Similarity) (자카드 유사도)"
   ]
  },
  {
   "cell_type": "code",
   "execution_count": 671,
   "id": "expected-probability",
   "metadata": {},
   "outputs": [],
   "source": [
    "x=['Jeff Ullman, Jennifer Widom, XML Security, VLDB04',\n",
    "  'Jeff Ullman, Hector Garcia-Molina, Hasing, VLDB04',\n",
    "  'Jeff Ullman, XML Query, VLDB04',\n",
    "  'Jeff Ullman, XML, VLDB04']\n",
    "y=['Hector Garcia-Molina, Jennifer Widom, Jeff Ullman, Ranking, VLDB04']\n",
    "def Jaccard_Similarity(x, y):\n",
    "    # 각 문장들 토큰화 과정\n",
    "    x_tokens=[]\n",
    "    x_total_tokens=[]\n",
    "    y_tokens=[]\n",
    "    y_total_tokens=[]\n",
    "    for x_item in x:\n",
    "        x_tokens=word_tokenize(x_item)\n",
    "        # word_tokenize는 각각 리스트로 반환하니, 하나의 리스트에 담기\n",
    "        for x_tokens_item in x_tokens:\n",
    "            x_total_tokens.append(x_tokens_item)\n",
    "    for y_item in y:\n",
    "        y_tokens=word_tokenize(y_item)\n",
    "        for y_tokens_item in y_tokens:\n",
    "            y_total_tokens.append(y_tokens_item)\n",
    "    # 합집합 구하는 과정\n",
    "    union=set(x_total_tokens).union(set(y_total_tokens))\n",
    "    # 교집합 구하는 과정\n",
    "    intersection=set(x_total_tokens).intersection(set(y_total_tokens))\n",
    "    jaccard_similarity=len(intersection)/len(union)\n",
    "    return jaccard_similarity"
   ]
  },
  {
   "cell_type": "code",
   "execution_count": 678,
   "id": "victorian-clearance",
   "metadata": {},
   "outputs": [
    {
     "name": "stdout",
     "output_type": "stream",
     "text": [
      "Jaccard Similarity =  0.6153846153846154\n",
      "Jaccard Distance =  0.3846153846153846\n"
     ]
    }
   ],
   "source": [
    "jaccard_similarity=Jaccard_Similarity(x, y)\n",
    "jaccard_distance=1-jaccard_similarity\n",
    "print('Jaccard Similarity = ', jaccard_similarity)\n",
    "print('Jaccard Distance = ', jaccard_distance)"
   ]
  },
  {
   "cell_type": "markdown",
   "id": "royal-scroll",
   "metadata": {},
   "source": [
    "### Edit-distance (편집 거리)"
   ]
  },
  {
   "cell_type": "code",
   "execution_count": 773,
   "id": "later-roman",
   "metadata": {},
   "outputs": [
    {
     "name": "stdout",
     "output_type": "stream",
     "text": [
      "Edit Distance('strong', 'stone'): 2\n",
      "----------------------------------------------------------------------\n"
     ]
    },
    {
     "data": {
      "text/plain": [
       "[[0, 1, 2, 3, 4, 5],\n",
       " [1, 0, 1, 2, 3, 4],\n",
       " [2, 1, 0, 1, 2, 3],\n",
       " [3, 2, 1, 1, 2, 3],\n",
       " [4, 3, 2, 1, 2, 3],\n",
       " [5, 4, 3, 2, 1, 2],\n",
       " [6, 5, 4, 3, 2, 2]]"
      ]
     },
     "execution_count": 773,
     "metadata": {},
     "output_type": "execute_result"
    }
   ],
   "source": [
    "origin_str='strong'\n",
    "convert_str='stone'\n",
    "origin_len=len(origin_str)+1\n",
    "convert_len=len(convert_str)+1\n",
    "\n",
    "# E 행렬 생성\n",
    "E=[ [0] * convert_len for _ in range(origin_len) ]\n",
    "# 초기화\n",
    "for i in range(0, origin_len):\n",
    "    E[i][0]=i\n",
    "for j in range(0, convert_len):\n",
    "    E[0][j]=j\n",
    "    \n",
    "# Edit Distance 계산\n",
    "for i in range(1, origin_len):\n",
    "    for j in range(1, convert_len):\n",
    "        if origin_str[i-1]==convert_str[j-1]:\n",
    "            E[i][j]=min(E[i][j-1]+1, E[i-1][j]+1, E[i-1][j-1]+0)\n",
    "        else:\n",
    "            E[i][j]=min(E[i][j-1]+1, E[i-1][j]+1, E[i-1][j-1]+1)\n",
    "                             \n",
    "print('Edit Distance(\\'%s\\', \\'%s\\'): %d' % (origin_str,convert_str, E[origin_len-1][convert_len-1]))\n",
    "print('-' * 70)\n",
    "\n",
    "E"
   ]
  },
  {
   "cell_type": "code",
   "execution_count": null,
   "id": "sweet-logic",
   "metadata": {},
   "outputs": [],
   "source": []
  }
 ],
 "metadata": {
  "kernelspec": {
   "display_name": "Python 3",
   "language": "python",
   "name": "python3"
  },
  "language_info": {
   "codemirror_mode": {
    "name": "ipython",
    "version": 3
   },
   "file_extension": ".py",
   "mimetype": "text/x-python",
   "name": "python",
   "nbconvert_exporter": "python",
   "pygments_lexer": "ipython3",
   "version": "3.9.1"
  }
 },
 "nbformat": 4,
 "nbformat_minor": 5
}
